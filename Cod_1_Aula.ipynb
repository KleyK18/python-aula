{
  "nbformat": 4,
  "nbformat_minor": 0,
  "metadata": {
    "colab": {
      "provenance": [],
      "authorship_tag": "ABX9TyOuP4XNnHYcCC6j6cfITUUm",
      "include_colab_link": true
    },
    "kernelspec": {
      "name": "python3",
      "display_name": "Python 3"
    },
    "language_info": {
      "name": "python"
    }
  },
  "cells": [
    {
      "cell_type": "markdown",
      "metadata": {
        "id": "view-in-github",
        "colab_type": "text"
      },
      "source": [
        "<a href=\"https://colab.research.google.com/github/KleyK18/python-aula/blob/main/Cod_1_Aula.ipynb\" target=\"_parent\"><img src=\"https://colab.research.google.com/assets/colab-badge.svg\" alt=\"Open In Colab\"/></a>"
      ]
    },
    {
      "cell_type": "code",
      "source": [
        "termo1 = 474\n",
        "termo2 = 14\n",
        "termo3 = 77\n",
        "termo1 + termo2"
      ],
      "metadata": {
        "colab": {
          "base_uri": "https://localhost:8080/"
        },
        "id": "EI-VLGpk_Nud",
        "outputId": "60facc97-6e17-41d7-c679-980b1079a461"
      },
      "execution_count": null,
      "outputs": [
        {
          "output_type": "execute_result",
          "data": {
            "text/plain": [
              "488"
            ]
          },
          "metadata": {},
          "execution_count": 9
        }
      ]
    },
    {
      "cell_type": "markdown",
      "source": [
        "Aula de Algoritmos"
      ],
      "metadata": {
        "id": "HdxAovbAAMS6"
      }
    },
    {
      "cell_type": "code",
      "source": [
        "#primeiro comando\n",
        "print(\"Eu é Reker!\")\n"
      ],
      "metadata": {
        "colab": {
          "base_uri": "https://localhost:8080/"
        },
        "id": "cCNUsxyZAV3i",
        "outputId": "2056a78a-5581-493b-83b7-bd50e4ecb975"
      },
      "execution_count": null,
      "outputs": [
        {
          "output_type": "stream",
          "name": "stdout",
          "text": [
            "Eu é Reker!\n"
          ]
        }
      ]
    },
    {
      "cell_type": "code",
      "source": [
        "#Segundo comando\n",
        "print(2+3)"
      ],
      "metadata": {
        "colab": {
          "base_uri": "https://localhost:8080/"
        },
        "id": "k4p2WPzXAeHz",
        "outputId": "49285ac8-46a6-4f05-ed73-4e449dba660a"
      },
      "execution_count": null,
      "outputs": [
        {
          "output_type": "stream",
          "name": "stdout",
          "text": [
            "5\n"
          ]
        }
      ]
    },
    {
      "cell_type": "code",
      "source": [
        "#Variáveis\n",
        "nome = \"Kleyton\"\n",
        "print(\"Olá \"+nome+\"!\")"
      ],
      "metadata": {
        "colab": {
          "base_uri": "https://localhost:8080/"
        },
        "id": "dnnmeAyHBFey",
        "outputId": "74c5ca62-3840-439f-fac8-97ba37d847e7"
      },
      "execution_count": null,
      "outputs": [
        {
          "output_type": "stream",
          "name": "stdout",
          "text": [
            "Olá Kleyton!\n"
          ]
        }
      ]
    },
    {
      "cell_type": "code",
      "source": [
        "#Variáveis numéricas\n",
        "a = 42\n",
        "b = 10\n",
        "print(a-b)"
      ],
      "metadata": {
        "colab": {
          "base_uri": "https://localhost:8080/"
        },
        "id": "cXkVRrEICA-4",
        "outputId": "ae918bf4-13c3-40b2-d393-47edf0084e65"
      },
      "execution_count": null,
      "outputs": [
        {
          "output_type": "stream",
          "name": "stdout",
          "text": [
            "32\n"
          ]
        }
      ]
    },
    {
      "cell_type": "code",
      "source": [
        "#Variáveis numéricas parte 2\n",
        "nota1 = 8\n",
        "nota2 = 7\n",
        "nota3 = 5\n",
        "media = (nota1 + nota2 + nota3) / 3\n",
        "print(media)"
      ],
      "metadata": {
        "colab": {
          "base_uri": "https://localhost:8080/"
        },
        "id": "kCyyQPO6C3vv",
        "outputId": "f936fc33-beab-4233-bd92-bfb5874057e7"
      },
      "execution_count": null,
      "outputs": [
        {
          "output_type": "stream",
          "name": "stdout",
          "text": [
            "6.666666666666667\n"
          ]
        }
      ]
    },
    {
      "cell_type": "code",
      "source": [
        "nome = \"José\"  #String\n",
        "preco = 12.5  #float, double\n",
        "idade = 30  #\n",
        "ehMaior = idade > 18  #Lógica ou booleanas George Boole\n"
      ],
      "metadata": {
        "id": "cV-XXYUi0Kwv"
      },
      "execution_count": null,
      "outputs": []
    },
    {
      "cell_type": "code",
      "source": [
        "type(nome)"
      ],
      "metadata": {
        "colab": {
          "base_uri": "https://localhost:8080/"
        },
        "id": "SAf8yIL61NzE",
        "outputId": "8c4a9b00-e846-4ab3-9321-d729e8a6ab01"
      },
      "execution_count": null,
      "outputs": [
        {
          "output_type": "execute_result",
          "data": {
            "text/plain": [
              "str"
            ]
          },
          "metadata": {},
          "execution_count": 2
        }
      ]
    },
    {
      "cell_type": "markdown",
      "source": [
        " Entrada de dados no notepad"
      ],
      "metadata": {
        "id": "DEJRNOG01vAL"
      }
    },
    {
      "cell_type": "code",
      "source": [
        "Time = input(\"Insira o nome do Time: \")\n",
        "print(Time)"
      ],
      "metadata": {
        "id": "lbqpGVs-10qm",
        "colab": {
          "base_uri": "https://localhost:8080/",
          "height": 304
        },
        "outputId": "e372f61b-1029-4806-f7dd-471c4396fe8d"
      },
      "execution_count": null,
      "outputs": [
        {
          "output_type": "error",
          "ename": "KeyboardInterrupt",
          "evalue": "Interrupted by user",
          "traceback": [
            "\u001b[0;31m---------------------------------------------------------------------------\u001b[0m",
            "\u001b[0;31mKeyboardInterrupt\u001b[0m                         Traceback (most recent call last)",
            "\u001b[0;32m<ipython-input-6-935c83231c9c>\u001b[0m in \u001b[0;36m<cell line: 1>\u001b[0;34m()\u001b[0m\n\u001b[0;32m----> 1\u001b[0;31m \u001b[0mTime\u001b[0m \u001b[0;34m=\u001b[0m \u001b[0minput\u001b[0m\u001b[0;34m(\u001b[0m\u001b[0;34m\"Insira o nome do Time: \"\u001b[0m\u001b[0;34m)\u001b[0m\u001b[0;34m\u001b[0m\u001b[0;34m\u001b[0m\u001b[0m\n\u001b[0m\u001b[1;32m      2\u001b[0m \u001b[0mprint\u001b[0m\u001b[0;34m(\u001b[0m\u001b[0mTime\u001b[0m\u001b[0;34m)\u001b[0m\u001b[0;34m\u001b[0m\u001b[0;34m\u001b[0m\u001b[0m\n",
            "\u001b[0;32m/usr/local/lib/python3.10/dist-packages/ipykernel/kernelbase.py\u001b[0m in \u001b[0;36mraw_input\u001b[0;34m(self, prompt)\u001b[0m\n\u001b[1;32m    849\u001b[0m                 \u001b[0;34m\"raw_input was called, but this frontend does not support input requests.\"\u001b[0m\u001b[0;34m\u001b[0m\u001b[0;34m\u001b[0m\u001b[0m\n\u001b[1;32m    850\u001b[0m             )\n\u001b[0;32m--> 851\u001b[0;31m         return self._input_request(str(prompt),\n\u001b[0m\u001b[1;32m    852\u001b[0m             \u001b[0mself\u001b[0m\u001b[0;34m.\u001b[0m\u001b[0m_parent_ident\u001b[0m\u001b[0;34m,\u001b[0m\u001b[0;34m\u001b[0m\u001b[0;34m\u001b[0m\u001b[0m\n\u001b[1;32m    853\u001b[0m             \u001b[0mself\u001b[0m\u001b[0;34m.\u001b[0m\u001b[0m_parent_header\u001b[0m\u001b[0;34m,\u001b[0m\u001b[0;34m\u001b[0m\u001b[0;34m\u001b[0m\u001b[0m\n",
            "\u001b[0;32m/usr/local/lib/python3.10/dist-packages/ipykernel/kernelbase.py\u001b[0m in \u001b[0;36m_input_request\u001b[0;34m(self, prompt, ident, parent, password)\u001b[0m\n\u001b[1;32m    893\u001b[0m             \u001b[0;32mexcept\u001b[0m \u001b[0mKeyboardInterrupt\u001b[0m\u001b[0;34m:\u001b[0m\u001b[0;34m\u001b[0m\u001b[0;34m\u001b[0m\u001b[0m\n\u001b[1;32m    894\u001b[0m                 \u001b[0;31m# re-raise KeyboardInterrupt, to truncate traceback\u001b[0m\u001b[0;34m\u001b[0m\u001b[0;34m\u001b[0m\u001b[0m\n\u001b[0;32m--> 895\u001b[0;31m                 \u001b[0;32mraise\u001b[0m \u001b[0mKeyboardInterrupt\u001b[0m\u001b[0;34m(\u001b[0m\u001b[0;34m\"Interrupted by user\"\u001b[0m\u001b[0;34m)\u001b[0m \u001b[0;32mfrom\u001b[0m \u001b[0;32mNone\u001b[0m\u001b[0;34m\u001b[0m\u001b[0;34m\u001b[0m\u001b[0m\n\u001b[0m\u001b[1;32m    896\u001b[0m             \u001b[0;32mexcept\u001b[0m \u001b[0mException\u001b[0m \u001b[0;32mas\u001b[0m \u001b[0me\u001b[0m\u001b[0;34m:\u001b[0m\u001b[0;34m\u001b[0m\u001b[0;34m\u001b[0m\u001b[0m\n\u001b[1;32m    897\u001b[0m                 \u001b[0mself\u001b[0m\u001b[0;34m.\u001b[0m\u001b[0mlog\u001b[0m\u001b[0;34m.\u001b[0m\u001b[0mwarning\u001b[0m\u001b[0;34m(\u001b[0m\u001b[0;34m\"Invalid Message:\"\u001b[0m\u001b[0;34m,\u001b[0m \u001b[0mexc_info\u001b[0m\u001b[0;34m=\u001b[0m\u001b[0;32mTrue\u001b[0m\u001b[0;34m)\u001b[0m\u001b[0;34m\u001b[0m\u001b[0;34m\u001b[0m\u001b[0m\n",
            "\u001b[0;31mKeyboardInterrupt\u001b[0m: Interrupted by user"
          ]
        }
      ]
    },
    {
      "cell_type": "code",
      "source": [
        "nome = input(\"Insira o nome do usuário: \")\n",
        "print(\"Seja bem-vindo\", nome)"
      ],
      "metadata": {
        "id": "r_CMM-u62CZG",
        "colab": {
          "base_uri": "https://localhost:8080/"
        },
        "outputId": "9cddfb49-121c-4ac0-c475-92c751ff6cdb"
      },
      "execution_count": null,
      "outputs": [
        {
          "output_type": "stream",
          "name": "stdout",
          "text": [
            "Insira o nome do usuário: Kley\n",
            "Seja bem-vindo Kley\n"
          ]
        }
      ]
    },
    {
      "cell_type": "code",
      "source": [
        "#Pede para inserir um número e retorna o dobro\n",
        "numero = int(input(\"insira um número: \"))\n",
        "print(numero * 2)"
      ],
      "metadata": {
        "colab": {
          "base_uri": "https://localhost:8080/"
        },
        "id": "AuKDgF3C4xI6",
        "outputId": "ffd59c27-21a4-4f55-c89b-623f199c1185"
      },
      "execution_count": null,
      "outputs": [
        {
          "output_type": "stream",
          "name": "stdout",
          "text": [
            "insira um número: 10\n",
            "20\n"
          ]
        }
      ]
    },
    {
      "cell_type": "code",
      "source": [
        "#Pede para inserir um número e retornar a sua metade\n",
        "numero = int(input(\"insira um número: \"))\n",
        "print(numero / 2)"
      ],
      "metadata": {
        "id": "IRodiQ7g3ueK",
        "colab": {
          "base_uri": "https://localhost:8080/"
        },
        "outputId": "c0d36368-598b-4561-f229-e2aef5dced7d"
      },
      "execution_count": null,
      "outputs": [
        {
          "output_type": "stream",
          "name": "stdout",
          "text": [
            "insira um número: 5\n",
            "2.5\n"
          ]
        }
      ]
    },
    {
      "cell_type": "code",
      "source": [
        "#A Circunferência do círculo é medida pela fórmula\n",
        "#2 * pi * raio\n",
        "#Faça um algorítmo que pede o raio e retorna a circunferência\n",
        "#use pi = 3.14\n",
        "raio = float(input(\"insira o raio \"))\n",
        "circunferencia = 2 * 3.14 * raio\n",
        "print(circunferencia)"
      ],
      "metadata": {
        "colab": {
          "base_uri": "https://localhost:8080/"
        },
        "id": "dnPZPD6K6YTF",
        "outputId": "032d9c87-6982-4936-cd7a-7229f6a0817d"
      },
      "execution_count": null,
      "outputs": [
        {
          "output_type": "stream",
          "name": "stdout",
          "text": [
            "insira o raio 2\n",
            "12.56\n"
          ]
        }
      ]
    },
    {
      "cell_type": "code",
      "source": [
        "#Solicita ao usuário a altura e o peso\n",
        "# Retorna o cálculo do IMC\n",
        "# peso / altura ao quadrado\n",
        "altura = float(input(\"Insira sua altura: \"))\n",
        "peso = float(input(\"Insira seu peso: \"))\n",
        "imc = peso / altura**2\n",
        "print(\"O IMC é \", imc)"
      ],
      "metadata": {
        "colab": {
          "base_uri": "https://localhost:8080/"
        },
        "id": "q5bD1W_f8zCE",
        "outputId": "16ef1ffc-5775-4901-a81e-345f02c59270"
      },
      "execution_count": null,
      "outputs": [
        {
          "output_type": "stream",
          "name": "stdout",
          "text": [
            "Insira sua altura: 1.70\n",
            "Insira seu peso: 80\n",
            "O IMC é  27.68166089965398\n"
          ]
        }
      ]
    },
    {
      "cell_type": "code",
      "source": [
        "# Converter uma temperatura em graus Celsius para Kelvin\n",
        "# Temperatura em Celsius e soma 274\n",
        "temperatura = float(input(\"Digite a temperatura: \"))\n",
        "print(temperatura + 274)"
      ],
      "metadata": {
        "colab": {
          "base_uri": "https://localhost:8080/"
        },
        "id": "HDAh_lJf9yt0",
        "outputId": "33001916-62b3-42ae-8813-28aa9d60d000"
      },
      "execution_count": null,
      "outputs": [
        {
          "output_type": "stream",
          "name": "stdout",
          "text": [
            "Digite a temperatura: 30\n",
            "304.0\n"
          ]
        }
      ]
    },
    {
      "cell_type": "markdown",
      "source": [
        "Estruturas de controle If e Else"
      ],
      "metadata": {
        "id": "GZ7WBGnHA6MM"
      }
    },
    {
      "cell_type": "code",
      "source": [
        "# Pede a idade da pessoa\n",
        "# Se for maior de 18 anos\n",
        "# Está apto ao concurso público\n",
        "idade = int(input(\"Digite a idade: \"))\n",
        "if(idade >= 18):\n",
        "  print(\"Apto ao concurso\")\n",
        "else:\n",
        "  print(\"Não está apto\")"
      ],
      "metadata": {
        "colab": {
          "base_uri": "https://localhost:8080/"
        },
        "id": "duJefJ5UBrta",
        "outputId": "8fd7a8d2-f7b1-4acd-8e56-0ccb6939a62c"
      },
      "execution_count": null,
      "outputs": [
        {
          "output_type": "stream",
          "name": "stdout",
          "text": [
            "Digite a idade: 18\n",
            "Apto ao concurso\n"
          ]
        }
      ]
    },
    {
      "cell_type": "code",
      "source": [
        "# Classificador de números.\n",
        "# Recebe um número e diz se ele é positivo, negativo ou zero\n",
        "numero = float(input(\"Digite um número: \"))\n",
        "if(numero > 0):\n",
        "  print(\"Positivo\")\n",
        "elif(numero < 0):\n",
        "  print(\"Negativo\")\n",
        "else:\n",
        "  print(\"Zero\")"
      ],
      "metadata": {
        "colab": {
          "base_uri": "https://localhost:8080/"
        },
        "id": "VsyjSVaKAR60",
        "outputId": "b832224e-3bbc-4fc6-ffde-8302aca4c145"
      },
      "execution_count": null,
      "outputs": [
        {
          "output_type": "stream",
          "name": "stdout",
          "text": [
            "Digite um número: 50\n",
            "Positivo\n"
          ]
        }
      ]
    },
    {
      "cell_type": "code",
      "source": [
        "# Recebe dois números\n",
        "# Diz qual é o maior\n",
        "# Informa se eles forem iguais\n",
        "num1 = float(input(\"Digite um número: \"))\n",
        "num2 = float(input(\"Digite outro número: \"))\n",
        "if(num1 > num2):\n",
        "  print(\"O primeiro número é maior\")\n",
        "elif(num2 > num1):\n",
        "  print(\"O segundo número é maior\")\n",
        "else:\n",
        "  print(\"Os números são iguais\")\n"
      ],
      "metadata": {
        "colab": {
          "base_uri": "https://localhost:8080/"
        },
        "id": "DMUSduYNE9p1",
        "outputId": "72a3aabe-2a9c-48c3-f898-491600c72b7b"
      },
      "execution_count": null,
      "outputs": [
        {
          "output_type": "stream",
          "name": "stdout",
          "text": [
            "Digite um número: 5\n",
            "Digite outro número: 5\n",
            "Os números são iguais\n"
          ]
        }
      ]
    },
    {
      "cell_type": "code",
      "source": [
        "#Se for Sábado e estiver fazendo sol, então vou à praia\n",
        "dia = \"sábado\"\n",
        "clima = \"sol\"\n",
        "if (dia ==\"sábado\" and clima == \"sol\"):\n",
        "  print(\"Vou a praia\")"
      ],
      "metadata": {
        "id": "kSo4njVbFKMg"
      },
      "execution_count": null,
      "outputs": []
    }
  ]
}